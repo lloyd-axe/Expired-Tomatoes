{
 "cells": [
  {
   "cell_type": "markdown",
   "id": "7373448c",
   "metadata": {},
   "source": [
    "# ExpiredTomatoes Implementation"
   ]
  },
  {
   "cell_type": "code",
   "execution_count": 12,
   "id": "42393d2d",
   "metadata": {},
   "outputs": [],
   "source": [
    "from ExpiredTomatoes import ExpiredTomatoes\n",
    "import tensorflow_text as text"
   ]
  },
  {
   "cell_type": "markdown",
   "id": "9d977e7d",
   "metadata": {},
   "source": [
    "Assuming you already have a trained model. You can simply use the **get_sentiment** method to classify the statement's sentiment.\n",
    "\n",
    "#### Please note:\n",
    "If your statement contains many sentences, it is necessary to make a list of those sentences as shown below.\n",
    "The **get_sentiment** method will also just return eith **1** for positive and **0** for negative sentiment. "
   ]
  },
  {
   "cell_type": "code",
   "execution_count": 13,
   "id": "fa24a8f5",
   "metadata": {},
   "outputs": [],
   "source": [
    "MODEL_PATH = r'\\imdb_bert'"
   ]
  },
  {
   "cell_type": "code",
   "execution_count": 14,
   "id": "047b0dad",
   "metadata": {},
   "outputs": [],
   "source": [
    "classifier = ExpiredTomatoes(MODEL_PATH)"
   ]
  },
  {
   "cell_type": "code",
   "execution_count": 19,
   "id": "c4cc21dc",
   "metadata": {},
   "outputs": [],
   "source": [
    "raw = \"Bloody Birthday is a totally rubbish slasher movie from beginning to end. <br /><br />I found the acting to be pretty good considering the genre of movie and its obvious low budget. I don't know what was going on with the cinematography but it looked ghastly. Way too over-saturated. Maybe this is a bad transfer to DVD or maybe it always looked like that, I don't know. <br /><br />There really are no redeeming qualities to speak of. There are a few deaths but not really gory. I wouldn't bother with it if I was you. The best thing about the DVD was the 15 minute interview with producer Max Rosenberg who was very amusing and honest. He didn't have anything good to say about director Ed Hunt and admits the movie was a failure, but he would like to re-make it as he believes it has a decent plot. However, he died in 2004 so I guess it will be up to someone else to take on that challenge. With the way things have been going in the last few years it wouldn't surprise me, there's at least one re-make per week at the cinema these day. It couldn't be any worse than the original I suppose but I couldn't care less whether it got re-made or not.\"\n",
    "sentences = raw.split('. ')"
   ]
  },
  {
   "cell_type": "code",
   "execution_count": 20,
   "id": "ac0840fc",
   "metadata": {},
   "outputs": [
    {
     "name": "stdout",
     "output_type": "stream",
     "text": [
      "Bad\n"
     ]
    }
   ],
   "source": [
    "print('Good') if classifier.get_sentiment(sentences) == 1 else print('Bad')"
   ]
  },
  {
   "cell_type": "code",
   "execution_count": null,
   "id": "a3cbb7ec",
   "metadata": {},
   "outputs": [],
   "source": []
  }
 ],
 "metadata": {
  "kernelspec": {
   "display_name": "Python 3 (ipykernel)",
   "language": "python",
   "name": "python3"
  },
  "language_info": {
   "codemirror_mode": {
    "name": "ipython",
    "version": 3
   },
   "file_extension": ".py",
   "mimetype": "text/x-python",
   "name": "python",
   "nbconvert_exporter": "python",
   "pygments_lexer": "ipython3",
   "version": "3.9.8"
  }
 },
 "nbformat": 4,
 "nbformat_minor": 5
}
