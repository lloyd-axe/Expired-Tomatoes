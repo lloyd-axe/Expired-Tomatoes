{
 "cells": [
  {
   "cell_type": "code",
   "execution_count": 2,
   "id": "142843cc",
   "metadata": {},
   "outputs": [],
   "source": [
    "import os\n",
    "import tensorflow as tf\n",
    "import tensorflow_hub as hub\n",
    "import tensorflow_text as text\n",
    "from ModellingUtils import ModellingUtils"
   ]
  },
  {
   "cell_type": "code",
   "execution_count": 3,
   "id": "4a7e0fff",
   "metadata": {},
   "outputs": [],
   "source": [
    "DATA_PATH = r'C:\\Users\\Lloyd Acha\\Documents\\ACHA_Files\\Projects\\Programming\\DataSets\\aclImdb_v1\\aclImdb'"
   ]
  },
  {
   "cell_type": "code",
   "execution_count": 4,
   "id": "f9d7ddf6",
   "metadata": {},
   "outputs": [],
   "source": [
    "AUTOTUNE = tf.data.AUTOTUNE\n",
    "batch_size = 5\n",
    "seed = 42"
   ]
  },
  {
   "cell_type": "code",
   "execution_count": 5,
   "id": "05e0d838",
   "metadata": {
    "scrolled": true
   },
   "outputs": [
    {
     "name": "stdout",
     "output_type": "stream",
     "text": [
      "Found 25000 files belonging to 2 classes.\n",
      "Using 20000 files for training.\n",
      "Found 25000 files belonging to 2 classes.\n",
      "Using 5000 files for validation.\n",
      "Found 25000 files belonging to 2 classes.\n"
     ]
    }
   ],
   "source": [
    "train_ds, class_names, val_ds = ModellingUtils.text_dataset_from_directory(\n",
    "    os.path.join(DATA_PATH, 'train')\n",
    "    )\n",
    "test_ds = ModellingUtils.text_dataset_from_directory(\n",
    "    os.path.join(DATA_PATH, 'test'), \n",
    "    subset = None, \n",
    "    validation_split = 0,\n",
    "    seed = 0,\n",
    "    validation = False\n",
    "    )[0]"
   ]
  },
  {
   "cell_type": "code",
   "execution_count": 6,
   "id": "377dd92f",
   "metadata": {},
   "outputs": [],
   "source": [
    "preprocess_url = 'https://tfhub.dev/tensorflow/bert_en_uncased_preprocess/3'\n",
    "model_url = 'https://tfhub.dev/tensorflow/small_bert/bert_en_uncased_L-4_H-512_A-8/1'"
   ]
  },
  {
   "cell_type": "code",
   "execution_count": 7,
   "id": "dea526e4",
   "metadata": {},
   "outputs": [
    {
     "name": "stdout",
     "output_type": "stream",
     "text": [
      "Model: \"model\"\n",
      "__________________________________________________________________________________________________\n",
      " Layer (type)                   Output Shape         Param #     Connected to                     \n",
      "==================================================================================================\n",
      " text (InputLayer)              [(None,)]            0           []                               \n",
      "                                                                                                  \n",
      " preprocessing (KerasLayer)     {'input_mask': (Non  0           ['text[0][0]']                   \n",
      "                                e, 128),                                                          \n",
      "                                 'input_type_ids':                                                \n",
      "                                (None, 128),                                                      \n",
      "                                 'input_word_ids':                                                \n",
      "                                (None, 128)}                                                      \n",
      "                                                                                                  \n",
      " BERT_encoder (KerasLayer)      {'default': (None,   28763649    ['preprocessing[0][0]',          \n",
      "                                512),                             'preprocessing[0][1]',          \n",
      "                                 'pooled_output': (               'preprocessing[0][2]']          \n",
      "                                None, 512),                                                       \n",
      "                                 'sequence_output':                                               \n",
      "                                 (None, 128, 512),                                                \n",
      "                                 'encoder_outputs':                                               \n",
      "                                 [(None, 128, 512),                                               \n",
      "                                 (None, 128, 512),                                                \n",
      "                                 (None, 128, 512),                                                \n",
      "                                 (None, 128, 512)]}                                               \n",
      "                                                                                                  \n",
      " dropout (Dropout)              (None, 512)          0           ['BERT_encoder[0][5]']           \n",
      "                                                                                                  \n",
      " classifier (Dense)             (None, 1)            513         ['dropout[0][0]']                \n",
      "                                                                                                  \n",
      "==================================================================================================\n",
      "Total params: 28,764,162\n",
      "Trainable params: 28,764,161\n",
      "Non-trainable params: 1\n",
      "__________________________________________________________________________________________________\n"
     ]
    }
   ],
   "source": [
    "model = ModellingUtils.build_classifier_model(preprocess_url, model_url)\n",
    "model.summary()"
   ]
  },
  {
   "cell_type": "code",
   "execution_count": 11,
   "id": "8132b9f5",
   "metadata": {},
   "outputs": [
    {
     "name": "stdout",
     "output_type": "stream",
     "text": [
      "4000/4000 [==============================] - 342s 85ms/step - loss: 7.6538 - binary_accuracy: 0.4981 - val_loss: 7.5087 - val_binary_accuracy: 0.5076\n"
     ]
    },
    {
     "data": {
      "image/png": "[encoded data removed]",
      "text/plain": [
       "<Figure size 720x432 with 2 Axes>"
      ]
     },
     "metadata": {
      "needs_background": "light"
     },
     "output_type": "display_data"
    }
   ],
   "source": [
    "with tf.device('/gpu:0'):\n",
    "    model = ModellingUtils.train_model(model, \n",
    "                                       data = train_ds, \n",
    "                                       epochs = 1, \n",
    "                                       validation_data = val_ds)"
   ]
  },
  {
   "cell_type": "code",
   "execution_count": 12,
   "id": "199e383d",
   "metadata": {},
   "outputs": [],
   "source": [
    "examples = [\n",
    "    'this is such an amazing movie!',  # this is the same sentence tried earlier\n",
    "    'The movie was great!',\n",
    "    'The movie was terrible...',\n",
    "]"
   ]
  },
  {
   "cell_type": "code",
   "execution_count": 13,
   "id": "e6f884f6",
   "metadata": {},
   "outputs": [],
   "source": [
    "results = tf.sigmoid(model(tf.constant(examples)))"
   ]
  },
  {
   "cell_type": "code",
   "execution_count": 23,
   "id": "bf6a3c8a",
   "metadata": {},
   "outputs": [
    {
     "data": {
      "text/plain": [
       "'score: 0.999999'"
      ]
     },
     "execution_count": 23,
     "metadata": {},
     "output_type": "execute_result"
    }
   ],
   "source": [
    "f'score: {results[0][0]:.6f}'"
   ]
  },
  {
   "cell_type": "code",
   "execution_count": 31,
   "id": "a0935d61",
   "metadata": {},
   "outputs": [
    {
     "data": {
      "text/plain": [
       "0.9999989"
      ]
     },
     "execution_count": 31,
     "metadata": {},
     "output_type": "execute_result"
    }
   ],
   "source": [
    "results[0][0].numpy()"
   ]
  },
  {
   "cell_type": "code",
   "execution_count": 33,
   "id": "c2243269",
   "metadata": {},
   "outputs": [
    {
     "name": "stdout",
     "output_type": "stream",
     "text": [
      "0.9999989\n"
     ]
    }
   ],
   "source": [
    "for x in results:\n",
    "    print(x[0].numpy())\n",
    "    break"
   ]
  },
  {
   "cell_type": "code",
   "execution_count": 34,
   "id": "676019c0",
   "metadata": {},
   "outputs": [
    {
     "data": {
      "text/plain": [
       "[0.9999989, 0.99999905, 0.99999905]"
      ]
     },
     "execution_count": 34,
     "metadata": {},
     "output_type": "execute_result"
    }
   ],
   "source": [
    "[res[0].numpy() for res in results]"
   ]
  },
  {
   "cell_type": "code",
   "execution_count": null,
   "id": "030dc7b5",
   "metadata": {},
   "outputs": [],
   "source": []
  }
 ],
 "metadata": {
  "kernelspec": {
   "display_name": "Python 3 (ipykernel)",
   "language": "python",
   "name": "python3"
  },
  "language_info": {
   "codemirror_mode": {
    "name": "ipython",
    "version": 3
   },
   "file_extension": ".py",
   "mimetype": "text/x-python",
   "name": "python",
   "nbconvert_exporter": "python",
   "pygments_lexer": "ipython3",
   "version": "3.9.8"
  }
 },
 "nbformat": 4,
 "nbformat_minor": 5
}
